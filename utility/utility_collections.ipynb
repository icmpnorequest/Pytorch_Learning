{
 "cells": [
  {
   "cell_type": "markdown",
   "metadata": {},
   "source": [
    "# Pytorch Utility Collections"
   ]
  },
  {
   "cell_type": "code",
   "execution_count": 3,
   "metadata": {},
   "outputs": [],
   "source": [
    "import torch\n",
    "import numpy as np\n",
    "import torch.nn as nn"
   ]
  },
  {
   "cell_type": "markdown",
   "metadata": {},
   "source": [
    "## 1. permute(dims)"
   ]
  },
  {
   "cell_type": "markdown",
   "metadata": {},
   "source": [
    "将 tensor 的维度换位\n",
    "\n",
    "**例子：**"
   ]
  },
  {
   "cell_type": "code",
   "execution_count": 4,
   "metadata": {},
   "outputs": [
    {
     "name": "stdout",
     "output_type": "stream",
     "text": [
      "tensor([[[ 0.7954, -0.6824,  0.1403, -0.6159, -0.5541],\n",
      "         [ 1.7226,  2.2406, -0.3884, -2.0875, -0.6925],\n",
      "         [ 1.0914, -1.1086, -0.6361,  0.7487, -0.9169]],\n",
      "\n",
      "        [[ 0.8438,  2.1555, -1.2703,  0.5627,  1.7565],\n",
      "         [ 0.0372, -0.5182,  0.3669,  1.5200, -0.4676],\n",
      "         [-0.5748,  1.3633,  2.3884, -0.0123, -0.4354]]])\n",
      "\n",
      " =======================================\n",
      "\n",
      "torch.Size([2, 3, 5])\n"
     ]
    }
   ],
   "source": [
    "x = torch.randn(2, 3, 5)\n",
    "print(x)\n",
    "print(\"\\n =======================================\\n\")\n",
    "print(x.size())"
   ]
  },
  {
   "cell_type": "code",
   "execution_count": 5,
   "metadata": {},
   "outputs": [
    {
     "name": "stdout",
     "output_type": "stream",
     "text": [
      "tensor([[[ 0.7954,  1.7226,  1.0914],\n",
      "         [ 0.8438,  0.0372, -0.5748]],\n",
      "\n",
      "        [[-0.6824,  2.2406, -1.1086],\n",
      "         [ 2.1555, -0.5182,  1.3633]],\n",
      "\n",
      "        [[ 0.1403, -0.3884, -0.6361],\n",
      "         [-1.2703,  0.3669,  2.3884]],\n",
      "\n",
      "        [[-0.6159, -2.0875,  0.7487],\n",
      "         [ 0.5627,  1.5200, -0.0123]],\n",
      "\n",
      "        [[-0.5541, -0.6925, -0.9169],\n",
      "         [ 1.7565, -0.4676, -0.4354]]])\n",
      "\n",
      " =======================================\n",
      "\n",
      "torch.Size([5, 2, 3])\n"
     ]
    }
   ],
   "source": [
    "x_perm = x.permute(2, 0, 1)\n",
    "print(x_perm)\n",
    "print(\"\\n =======================================\\n\")\n",
    "print(x_perm.size())"
   ]
  },
  {
   "cell_type": "markdown",
   "metadata": {},
   "source": [
    "## 2. torch.randn"
   ]
  },
  {
   "cell_type": "markdown",
   "metadata": {},
   "source": [
    "torch.randn(*size, out=None) -> Tensor\n",
    "\n",
    "**例子：**"
   ]
  },
  {
   "cell_type": "code",
   "execution_count": 6,
   "metadata": {},
   "outputs": [
    {
     "name": "stdout",
     "output_type": "stream",
     "text": [
      "tensor([ 1.4654,  0.1855, -0.7807, -0.6112])\n",
      "torch.Size([4])\n",
      "==================\n",
      "\n",
      "tensor([[0.7532, 0.0989, 0.7238, 0.6656]])\n",
      "torch.Size([1, 4])\n"
     ]
    }
   ],
   "source": [
    "a = torch.randn(4)\n",
    "print(a)\n",
    "print(a.size())\n",
    "print(\"==================\\n\")\n",
    "\n",
    "b = torch.rand(1, 4)\n",
    "print(b)\n",
    "print(b.size())"
   ]
  },
  {
   "cell_type": "markdown",
   "metadata": {},
   "source": [
    "## 3. view(size)"
   ]
  },
  {
   "cell_type": "code",
   "execution_count": 7,
   "metadata": {},
   "outputs": [
    {
     "data": {
      "text/plain": [
       "tensor([[0.7532],\n",
       "        [0.0989],\n",
       "        [0.7238],\n",
       "        [0.6656]])"
      ]
     },
     "execution_count": 7,
     "metadata": {},
     "output_type": "execute_result"
    }
   ],
   "source": [
    "b.view(4, -1)"
   ]
  },
  {
   "cell_type": "markdown",
   "metadata": {},
   "source": [
    "## 4. nn.Conv2d()"
   ]
  },
  {
   "cell_type": "markdown",
   "metadata": {},
   "source": [
    "> class torch.nn.Conv2d(in_channels, out_channels, kernel_size, stride=1, padding=0, dilation=1, groups=1, bias=True)"
   ]
  },
  {
   "cell_type": "markdown",
   "metadata": {},
   "source": [
    "**参数说明**\n",
    "\n",
    "\n",
    "- in_channels (int) – 输入特征矩阵的通道数 Cin\n",
    "\n",
    "\n",
    "- out_channels (int) – 输出特征矩阵的通道数 Cout\n",
    "\n",
    "\n",
    "- kernel_size (int or tuple) – 卷积核的大小\n",
    "\n",
    "\n",
    "- stride (int or tuple, optional) – 卷积核的步长. 默认: 1\n",
    "\n",
    "\n",
    "- padding (int or tuple, optional) – 边缘的扩充，使用0进行扩充 Default: 0\n",
    "\n",
    "\n",
    "- dilation (int or tuple, optional) – 内核之间的距离. Default: 1\n",
    "\n",
    "\n",
    "- groups (int, optional) – Number of blocked connections from input channels to output channels. Default: 1\n",
    "\n",
    "\n",
    "- bias (bool, optional) – If True, adds a learnable bias to the output. Default: True"
   ]
  },
  {
   "cell_type": "markdown",
   "metadata": {},
   "source": [
    "## 5. nn.MaxPool2d()"
   ]
  },
  {
   "cell_type": "markdown",
   "metadata": {},
   "source": [
    "> class torch.nn.MaxPool2d(kernel_size, stride=None, padding=0, dilation=1, return_indices=False, ceil_mode=False)"
   ]
  },
  {
   "cell_type": "markdown",
   "metadata": {},
   "source": [
    "**参数说明：**\n",
    "\n",
    "- kernel_size(int or tuple) - max pooling的窗口大小\n",
    "\n",
    "- stride(int or tuple, optional) - max pooling的窗口移动的步长。默认值是kernel_size\n",
    "\n",
    "- padding(int or tuple, optional) - 输入的每一条边补充0的层数\n",
    "\n",
    "- dilation(int or tuple, optional) – 一个控制窗口中元素步幅的参数\n",
    "\n",
    "- return_indices - 如果等于True，会返回输出最大值的序号，对于上采样操作会有帮助\n",
    "\n",
    "- ceil_mode - 如果等于True，计算输出信号大小的时候，会使用向上取整，代替默认的向下取整的操作"
   ]
  },
  {
   "cell_type": "markdown",
   "metadata": {},
   "source": [
    "## 6. nn.BatchNorm2d()"
   ]
  },
  {
   "cell_type": "markdown",
   "metadata": {},
   "source": [
    "> torch.nn.BatchNorm2d(num_features, eps=1e-05, momentum=0.1, affine=True, track_running_stats=True)"
   ]
  },
  {
   "cell_type": "markdown",
   "metadata": {},
   "source": [
    "**参数说明:**\n",
    "\n",
    "- num_features： 来自期望输入的特征数，该期望输入的大小为'batch_size x num_features x height x width'\n",
    "\n",
    "- eps： 为保证数值稳定性（分母不能趋近或取0）,给分母加上的值。默认为1e-5。\n",
    "\n",
    "- momentum： 动态均值和动态方差所使用的动量。默认为0.1。\n",
    "\n",
    "- affine： 一个布尔值，当设为true，给该层添加可学习的仿射变换参数。"
   ]
  },
  {
   "cell_type": "markdown",
   "metadata": {},
   "source": [
    "## 7. nn.Linear()"
   ]
  },
  {
   "cell_type": "markdown",
   "metadata": {},
   "source": [
    "> class torch.nn.Linear(in_features, out_features, bias=True)"
   ]
  },
  {
   "cell_type": "markdown",
   "metadata": {},
   "source": [
    "**参数说明：**\n",
    "\n",
    "- in_features - 每个输入样本的大小\n",
    "\n",
    "- out_features - 每个输出样本的大小\n",
    "\n",
    "- bias - 若设置为False，这层不会学习偏置。默认值：True\n"
   ]
  },
  {
   "cell_type": "markdown",
   "metadata": {},
   "source": [
    "## 8. SubsetRandomSampler(indices)"
   ]
  },
  {
   "cell_type": "markdown",
   "metadata": {},
   "source": [
    "> class torch.utils.data.sampler.SubsetRandomSampler(indices)"
   ]
  },
  {
   "cell_type": "markdown",
   "metadata": {},
   "source": [
    "**函数作用：**\n",
    "\n",
    "- 样本元素从指定的索引列表中随机抽取，没有替换。\n",
    "\n",
    "**参数说明：**\n",
    "\n",
    "- indices: 表示列表的索引"
   ]
  },
  {
   "cell_type": "markdown",
   "metadata": {},
   "source": [
    "## 9. kaiming_normal()"
   ]
  },
  {
   "cell_type": "markdown",
   "metadata": {},
   "source": [
    "> torch.nn.init.kaiming_normal(tensor, a=0, mode='fan_in')"
   ]
  },
  {
   "cell_type": "markdown",
   "metadata": {},
   "source": [
    "**函数作用：**\n",
    "\n",
    "- 根据He, K等人在“Delving deep into rectifiers: Surpassing human-level performance on ImageNet classification”中描述的方法，用一个正态分布生成值，填充输入的张量或变量。结果张量中的值采样自均值为0，标准差为 $\\sqrt{\\frac{2}{(1 + a^2) * fan_{in}}}$ 的正态分布。\n",
    "\n",
    "**参数说明：**\n",
    "\n",
    "- tensor – n维的torch.Tensor或 autograd.Variable\n",
    "- a -这层之后使用的rectifier的斜率系数（ReLU的默认值为0）\n",
    "- mode -可以为“fan_in”（默认）或“fan_out”。“fan_in”保留前向传播时权值方差的量级，“fan_out”保留反向传播时的量级。\n"
   ]
  },
  {
   "cell_type": "markdown",
   "metadata": {},
   "source": [
    "**例子如下：**"
   ]
  },
  {
   "cell_type": "code",
   "execution_count": 4,
   "metadata": {},
   "outputs": [
    {
     "name": "stderr",
     "output_type": "stream",
     "text": [
      "/Library/Frameworks/Python.framework/Versions/3.7/lib/python3.7/site-packages/ipykernel_launcher.py:2: UserWarning: nn.init.kaiming_normal is now deprecated in favor of nn.init.kaiming_normal_.\n",
      "  \n"
     ]
    },
    {
     "data": {
      "text/plain": [
       "tensor([[ 1.2340, -2.0492,  0.9643, -0.8630,  0.7096],\n",
       "        [ 1.2771, -0.0929, -0.0151, -1.3038, -0.6973],\n",
       "        [ 0.6268, -0.6731, -0.5713, -0.8125, -0.0780]])"
      ]
     },
     "execution_count": 4,
     "metadata": {},
     "output_type": "execute_result"
    }
   ],
   "source": [
    "w = torch.Tensor(3, 5)\n",
    "nn.init.kaiming_normal(w, mode='fan_out')"
   ]
  },
  {
   "cell_type": "markdown",
   "metadata": {},
   "source": [
    "## 10. pack_padded_sequence"
   ]
  },
  {
   "cell_type": "markdown",
   "metadata": {},
   "source": [
    "> torch.nn.utils.rnn.pack_padded_sequence(input, lengths, batch_first=False, enforce_sorted=True)"
   ]
  },
  {
   "cell_type": "markdown",
   "metadata": {},
   "source": [
    "**函数作用**\n",
    "- 压缩填充后的序列"
   ]
  },
  {
   "cell_type": "markdown",
   "metadata": {},
   "source": [
    "**参数说明**\n",
    "\n",
    "- input（Tensor）- 压缩后的可变长序列。其 size 可为 $T \\times B \\times *$。T 为最长序列的长度，B是 batch size，* 为任意维度的数值（包括0）\n",
    "\n",
    "- lengths (Tensor) - 每个 batch 中序列长度构成的列表\n",
    "\n",
    "- batch_first (bool, optional) - if True，input 则为 $B \\times T \\times *$ 格式\n",
    "\n",
    "- enforce_sorted (bool, optional) - if True, input 则按照长度大小降序排列"
   ]
  },
  {
   "cell_type": "markdown",
   "metadata": {},
   "source": [
    "## 11. pad_packed_sequence"
   ]
  },
  {
   "cell_type": "markdown",
   "metadata": {},
   "source": [
    "> torch.nn.utils.rnn.pad_packed_sequence(sequence, batch_first=False, padding_value=0.0, total_length=None)"
   ]
  },
  {
   "cell_type": "markdown",
   "metadata": {},
   "source": [
    "**函数作用**\n",
    "\n",
    "填充一个压缩的可变长序列"
   ]
  },
  {
   "cell_type": "markdown",
   "metadata": {},
   "source": [
    "**参数说明**\n",
    "\n",
    "- sequence (PackedSequence) - 要填充的batch\n",
    "\n",
    "- batch_first (bool, optional) - if True, 结果是 $B \\times T \\times *$ 格式\n",
    "\n",
    "- padding_value (float, optional) - 填充元素的值\n",
    "\n",
    "- total_length (int, optional) - if not None, 结果会被填充为 total_length 长度"
   ]
  },
  {
   "cell_type": "code",
   "execution_count": null,
   "metadata": {},
   "outputs": [],
   "source": []
  }
 ],
 "metadata": {
  "kernelspec": {
   "display_name": "Python 3",
   "language": "python",
   "name": "python3"
  },
  "language_info": {
   "codemirror_mode": {
    "name": "ipython",
    "version": 3
   },
   "file_extension": ".py",
   "mimetype": "text/x-python",
   "name": "python",
   "nbconvert_exporter": "python",
   "pygments_lexer": "ipython3",
   "version": "3.7.4"
  }
 },
 "nbformat": 4,
 "nbformat_minor": 2
}
