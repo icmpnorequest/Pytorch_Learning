{
 "cells": [
  {
   "cell_type": "markdown",
   "metadata": {},
   "source": [
    "# Neural Network"
   ]
  },
  {
   "cell_type": "code",
   "execution_count": null,
   "metadata": {},
   "outputs": [],
   "source": [
    "# import some related libraries\n",
    "import torch\n",
    "import torch.nn as nn\n",
    "import torchvision\n",
    "import torchvision.transforms as transforms"
   ]
  },
  {
   "cell_type": "code",
   "execution_count": 2,
   "metadata": {},
   "outputs": [],
   "source": [
    "# Device configuaration\n",
    "device =  torch.device('cuda' if torch.cuda.is_available() else 'cpu')"
   ]
  },
  {
   "cell_type": "code",
   "execution_count": 3,
   "metadata": {},
   "outputs": [],
   "source": [
    "# Hyper-parameters\n",
    "input_size = 784     # 28*28 = 784\n",
    "hidden_size = 500\n",
    "num_classes = 10\n",
    "num_epochs = 5\n",
    "batch_size = 100\n",
    "learning_rate = 0.001"
   ]
  },
  {
   "cell_type": "code",
   "execution_count": 5,
   "metadata": {},
   "outputs": [],
   "source": [
    "# MNIST dataset\n",
    "train_dataset = torchvision.datasets.MNIST(root=\"../data\",\n",
    "                                         train=True,\n",
    "                                         transform=transforms.ToTensor(),\n",
    "                                         download=True)\n",
    "\n",
    "test_dataset = torchvision.datasets.MNIST(root='../data',\n",
    "                                        train=False,\n",
    "                                        transform=transforms.ToTensor())"
   ]
  },
  {
   "cell_type": "code",
   "execution_count": 6,
   "metadata": {},
   "outputs": [],
   "source": [
    "# Data Loader\n",
    "train_loader = torch.utils.data.DataLoader(dataset=train_dataset,\n",
    "                                          batch_size=batch_size,\n",
    "                                          shuffle=True)\n",
    "\n",
    "test_loader = torch.utils.data.DataLoader(dataset=test_dataset,\n",
    "                                         batch_size=batch_size,\n",
    "                                         shuffle=False)"
   ]
  },
  {
   "cell_type": "code",
   "execution_count": 7,
   "metadata": {},
   "outputs": [],
   "source": [
    "# Fully connected meural network with one hidden layer\n",
    "class NeuralNet(nn.Module):\n",
    "    def __init__(self, input_size, hidden_size, num_classes):\n",
    "        super(NeuralNet, self).__init__()\n",
    "        self.fc1 = nn.Linear(input_size, hidden_size)\n",
    "        self.relu = nn.ReLU()\n",
    "        self.fc2 = nn.Linear(hidden_size, num_classes)\n",
    "    \n",
    "    def forward(self, x):\n",
    "        out = self.fc1(x)\n",
    "        out = self.relu(out)\n",
    "        out = self.fc2(out)\n",
    "        return out"
   ]
  },
  {
   "cell_type": "code",
   "execution_count": 8,
   "metadata": {},
   "outputs": [],
   "source": [
    "model = NeuralNet(input_size, hidden_size, num_classes).to(device)"
   ]
  },
  {
   "cell_type": "code",
   "execution_count": 9,
   "metadata": {},
   "outputs": [],
   "source": [
    "# Loss and optimizer\n",
    "criterion = nn.CrossEntropyLoss()\n",
    "optimizer = torch.optim.Adam(model.parameters(), lr=learning_rate)"
   ]
  },
  {
   "cell_type": "code",
   "execution_count": 11,
   "metadata": {
    "scrolled": true
   },
   "outputs": [
    {
     "name": "stdout",
     "output_type": "stream",
     "text": [
      "Epoch [1/5], Step [100/600], Loss: 0.2529\n",
      "Epoch [1/5], Step [200/600], Loss: 0.2471\n",
      "Epoch [1/5], Step [300/600], Loss: 0.2069\n",
      "Epoch [1/5], Step [400/600], Loss: 0.1172\n",
      "Epoch [1/5], Step [500/600], Loss: 0.1980\n",
      "Epoch [1/5], Step [600/600], Loss: 0.2600\n",
      "Epoch [2/5], Step [100/600], Loss: 0.1533\n",
      "Epoch [2/5], Step [200/600], Loss: 0.1431\n",
      "Epoch [2/5], Step [300/600], Loss: 0.1007\n",
      "Epoch [2/5], Step [400/600], Loss: 0.2089\n",
      "Epoch [2/5], Step [500/600], Loss: 0.1153\n",
      "Epoch [2/5], Step [600/600], Loss: 0.0596\n",
      "Epoch [3/5], Step [100/600], Loss: 0.0498\n",
      "Epoch [3/5], Step [200/600], Loss: 0.0724\n",
      "Epoch [3/5], Step [300/600], Loss: 0.1529\n",
      "Epoch [3/5], Step [400/600], Loss: 0.0703\n",
      "Epoch [3/5], Step [500/600], Loss: 0.0826\n",
      "Epoch [3/5], Step [600/600], Loss: 0.0340\n",
      "Epoch [4/5], Step [100/600], Loss: 0.0907\n",
      "Epoch [4/5], Step [200/600], Loss: 0.0391\n",
      "Epoch [4/5], Step [300/600], Loss: 0.0608\n",
      "Epoch [4/5], Step [400/600], Loss: 0.0318\n",
      "Epoch [4/5], Step [500/600], Loss: 0.0671\n",
      "Epoch [4/5], Step [600/600], Loss: 0.0319\n",
      "Epoch [5/5], Step [100/600], Loss: 0.0563\n",
      "Epoch [5/5], Step [200/600], Loss: 0.1379\n",
      "Epoch [5/5], Step [300/600], Loss: 0.0348\n",
      "Epoch [5/5], Step [400/600], Loss: 0.0169\n",
      "Epoch [5/5], Step [500/600], Loss: 0.0482\n",
      "Epoch [5/5], Step [600/600], Loss: 0.0450\n"
     ]
    }
   ],
   "source": [
    "# Train the model\n",
    "total_step = len(train_loader)\n",
    "for epoch in range(num_epochs):\n",
    "    for i, (images, labels) in enumerate(train_loader):\n",
    "        # Move tensors to the configured device\n",
    "        # print(\"images.shape = {}\".format(images.shape))\n",
    "        # torch.Size([100, 1, 28, 28])\n",
    "        images = images.reshape(-1, 28*28).to(device)\n",
    "        labels = labels.to(device)\n",
    "        \n",
    "        # Forward pass\n",
    "        outputs = model(images)\n",
    "        loss = criterion(outputs, labels)\n",
    "        \n",
    "        # Backward and optimize\n",
    "        optimizer.zero_grad()\n",
    "        loss.backward()\n",
    "        optimizer.step()\n",
    "        \n",
    "        if (i + 1) % 100 == 0:\n",
    "            print(\"Epoch [{}/{}], Step [{}/{}], Loss: {:.4f}\"\n",
    "                 .format(epoch+1, num_epochs, i+1, total_step, loss.item()))"
   ]
  },
  {
   "cell_type": "code",
   "execution_count": 17,
   "metadata": {
    "scrolled": true
   },
   "outputs": [
    {
     "name": "stdout",
     "output_type": "stream",
     "text": [
      "Accuracy of the network on the 10000 test images: 97.84 %\n"
     ]
    }
   ],
   "source": [
    "# Test the model\n",
    "# In test phase, we don't need to compute gradients\n",
    "with torch.no_grad():\n",
    "    correct = 0\n",
    "    total = 0\n",
    "    for images, labels in test_loader:\n",
    "        images = images.reshape(-1, 28*28).to(device)\n",
    "        labels = labels.to(device)\n",
    "        outputs = model(images)\n",
    "        _, predicted = torch.max(outputs.data, 1)\n",
    "        # print(\"_ = \", _)\n",
    "        # print(\"predicted = \", predicted)\n",
    "        # tensor([7, 2, 1, 0, 4, 1, 4, 9, 5, 9, 0, 6, 9, 0, 1, 5, 9, 7, 3, 4, 9\n",
    "        # print(\"labels.size(0) = \", labels.size(0))\n",
    "        # labels.size(0) = 100\n",
    "        total += labels.size(0)\n",
    "        correct += (predicted == labels).sum().item()\n",
    "    \n",
    "    print(\"Accuracy of the network on the 10000 test images: {} %\".format(100 * correct / total))   "
   ]
  },
  {
   "cell_type": "code",
   "execution_count": 18,
   "metadata": {},
   "outputs": [],
   "source": [
    "# Save the model checkpoint\n",
    "torch.save(model.state_dict(), 'simple_nn.ckpt')"
   ]
  },
  {
   "cell_type": "code",
   "execution_count": null,
   "metadata": {},
   "outputs": [],
   "source": []
  }
 ],
 "metadata": {
  "kernelspec": {
   "display_name": "Python 3",
   "language": "python",
   "name": "python3"
  },
  "language_info": {
   "codemirror_mode": {
    "name": "ipython",
    "version": 3
   },
   "file_extension": ".py",
   "mimetype": "text/x-python",
   "name": "python",
   "nbconvert_exporter": "python",
   "pygments_lexer": "ipython3",
   "version": "3.7.2"
  }
 },
 "nbformat": 4,
 "nbformat_minor": 2
}
