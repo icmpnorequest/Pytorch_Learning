{
 "cells": [
  {
   "cell_type": "markdown",
   "metadata": {},
   "source": [
    "# Convolutional Neural Network"
   ]
  },
  {
   "cell_type": "code",
   "execution_count": 7,
   "metadata": {},
   "outputs": [],
   "source": [
    "# import related libraries\n",
    "import torch\n",
    "import torch.nn as nn\n",
    "import torchvision\n",
    "import torchvision.transforms as transforms"
   ]
  },
  {
   "cell_type": "code",
   "execution_count": 8,
   "metadata": {},
   "outputs": [],
   "source": [
    "# Device configuration\n",
    "device = torch.device('cuda:0' if torch.cuda.is_available() else 'cpu')"
   ]
  },
  {
   "cell_type": "code",
   "execution_count": 9,
   "metadata": {},
   "outputs": [],
   "source": [
    "# Hyper parameters\n",
    "num_epochs = 5\n",
    "num_classes = 100\n",
    "batch_size = 100\n",
    "learning_rate = 0.001"
   ]
  },
  {
   "cell_type": "code",
   "execution_count": 10,
   "metadata": {},
   "outputs": [],
   "source": [
    "# MNIST dataset\n",
    "train_dataset = torchvision.datasets.MNIST(root='../data',\n",
    "                                          train=True,\n",
    "                                          transform=transforms.ToTensor(),\n",
    "                                          download=True)\n",
    "\n",
    "test_dataset = torchvision.datasets.MNIST(root='../data',\n",
    "                                         train=False,\n",
    "                                         transform=transforms.ToTensor())"
   ]
  },
  {
   "cell_type": "code",
   "execution_count": 11,
   "metadata": {},
   "outputs": [],
   "source": [
    "# Data loader\n",
    "train_loader = torch.utils.data.DataLoader(dataset=train_dataset,\n",
    "                                          batch_size=batch_size,\n",
    "                                          shuffle=True)\n",
    "\n",
    "test_loader = torch.utils.data.DataLoader(dataset=test_dataset,\n",
    "                                          batch_size=batch_size, \n",
    "                                          shuffle=False)"
   ]
  },
  {
   "cell_type": "markdown",
   "metadata": {},
   "source": [
    "## torch.nn.Conv2d Learning"
   ]
  },
  {
   "cell_type": "markdown",
   "metadata": {},
   "source": [
    "Pytorch official document API:\n",
    "\n",
    "**class torch.nn.Conv2d(in_channels, out_channels, kernel_size, stride=1, padding=0, dilation=1, groups=1, bias=True)**\n",
    "\n",
    "- Input(N, C_in, H, W)\n",
    "\n",
    "- Output(N, C_out, H_out, W_out)\n",
    "\n",
    "**Parameters:**\n",
    "\n",
    "- in_channels(int) - 输入信号通道\n",
    "- out_channels(int) - 卷积产生的通道\n",
    "- kernel_size(int or tuple) - 卷积核的尺寸\n",
    "- stride(int or tuple, optional) - 卷积步长\n",
    "- padding(int or tuple, optional) - 输入的每条边补充0的层数\n",
    "- dilation(int or tuple, optional) - 卷积核元素之间的间距\n",
    "- groups(int, optional) - 从输入通道到输出通道的阻塞连接数\n",
    "- bias(bool, optional) - 如果bias=True，添加偏置\n",
    "\n",
    "**Example:**\n",
    "```\n",
    "# With square kernels and equal stride\n",
    "m = nn.Conv2d(16, 33, 3, stride=2)\n",
    "# non-square kernels and unequal stride and with padding\n",
    "m = nn.Conv2d(16, 33, (3, 5), stride=(2, 1), padding=(4, 2))\n",
    "# non-square kernels and unequal stride and with padding and dilation\n",
    "m = nn.Conv2d(16, 33, (3, 5), stride=(2, 1), padding=(4, 2), dilation=(3, 1))\n",
    "input = (torch.randn(20, 16, 50, 100)\n",
    "output = m(input)\n",
    "\n",
    "\"\"\"\n",
    "############# output ###########\n",
    "tensor([[[[ 6.3524e-02, -1.2699e-01,  2.1988e-01,  ...,  2.8191e-01,\n",
    "            2.3415e-01, -4.7665e-01],\n",
    "          [-5.8807e-02,  1.1290e-01,  1.8089e-01,  ..., -5.2318e-01,\n",
    "            1.4178e-01,  3.9162e-01],\n",
    "          [ 1.9483e-01, -3.4395e-01,  5.6898e-01,  ..., -2.6373e-01,\n",
    "           -1.3339e-01, -1.4554e-01],\n",
    "\"\"\"\n",
    "\n",
    "```"
   ]
  },
  {
   "cell_type": "code",
   "execution_count": 12,
   "metadata": {},
   "outputs": [],
   "source": [
    "# Convolutional neural network (two convolutional layers)\n",
    "class ConvNet(nn.Module):\n",
    "    def __init__(self, num_classes=10):\n",
    "        super(ConvNet, self).__init__()\n",
    "        self.layer1 = nn.Sequential(\n",
    "            nn.Conv2d(1, 16, kernel_size=5, stride=1, padding=2),\n",
    "            nn.BatchNorm2d(16),\n",
    "            nn.ReLU(),\n",
    "            nn.MaxPool2d(kernel_size=2, stride=2))\n",
    "        self.layer2 = nn.Sequential(\n",
    "            nn.Conv2d(16, 32, kernel_size=5, stride=1, padding=2),\n",
    "            nn.BatchNorm2d(32),\n",
    "            nn.ReLU(),\n",
    "            nn.MaxPool2d(kernel_size=2, stride=2))\n",
    "    \n",
    "    def forward(self, x):\n",
    "        out = self.layer1(x)\n",
    "        out = self.layer2(out)\n",
    "        out = out.reshape(out.size(0), -1)\n",
    "        return out\n",
    "\n",
    "model = ConvNet(num_classes).to(device)"
   ]
  },
  {
   "cell_type": "code",
   "execution_count": 13,
   "metadata": {},
   "outputs": [],
   "source": [
    "# Loss and optimizer\n",
    "criterion = nn.CrossEntropyLoss()\n",
    "optimizer = torch.optim.Adam(model.parameters(), lr=learning_rate)"
   ]
  },
  {
   "cell_type": "code",
   "execution_count": 11,
   "metadata": {},
   "outputs": [
    {
     "name": "stdout",
     "output_type": "stream",
     "text": [
      "Epoch [1/5], Step [100/600], Loss: 5.1718\n",
      "Epoch [1/5], Step [200/600], Loss: 4.3976\n",
      "Epoch [1/5], Step [300/600], Loss: 4.1541\n",
      "Epoch [1/5], Step [400/600], Loss: 4.0046\n",
      "Epoch [1/5], Step [500/600], Loss: 3.4848\n",
      "Epoch [1/5], Step [600/600], Loss: 3.3392\n",
      "Epoch [2/5], Step [100/600], Loss: 3.2931\n",
      "Epoch [2/5], Step [200/600], Loss: 2.8741\n",
      "Epoch [2/5], Step [300/600], Loss: 2.8902\n",
      "Epoch [2/5], Step [400/600], Loss: 2.9294\n",
      "Epoch [2/5], Step [500/600], Loss: 2.7296\n",
      "Epoch [2/5], Step [600/600], Loss: 2.6284\n",
      "Epoch [3/5], Step [100/600], Loss: 2.6850\n",
      "Epoch [3/5], Step [200/600], Loss: 2.4596\n",
      "Epoch [3/5], Step [300/600], Loss: 2.3567\n",
      "Epoch [3/5], Step [400/600], Loss: 2.3069\n",
      "Epoch [3/5], Step [500/600], Loss: 2.3588\n",
      "Epoch [3/5], Step [600/600], Loss: 2.3820\n",
      "Epoch [4/5], Step [100/600], Loss: 2.4221\n",
      "Epoch [4/5], Step [200/600], Loss: 2.0558\n",
      "Epoch [4/5], Step [300/600], Loss: 2.1766\n",
      "Epoch [4/5], Step [400/600], Loss: 2.1796\n",
      "Epoch [4/5], Step [500/600], Loss: 2.2883\n",
      "Epoch [4/5], Step [600/600], Loss: 2.3096\n",
      "Epoch [5/5], Step [100/600], Loss: 2.4160\n",
      "Epoch [5/5], Step [200/600], Loss: 2.0992\n",
      "Epoch [5/5], Step [300/600], Loss: 2.0395\n",
      "Epoch [5/5], Step [400/600], Loss: 2.1368\n",
      "Epoch [5/5], Step [500/600], Loss: 2.5632\n",
      "Epoch [5/5], Step [600/600], Loss: 2.0237\n"
     ]
    }
   ],
   "source": [
    "# Train the model\n",
    "total_step = len(train_loader)\n",
    "for epoch in range(num_epochs):\n",
    "    for i, (images, labels) in enumerate(train_loader):\n",
    "        images = images.to(device)\n",
    "        labels = labels.to(device)\n",
    "        \n",
    "        # Forward pass\n",
    "        outputs = model(images)\n",
    "        loss = criterion(outputs, labels)\n",
    "        \n",
    "        # Backward and optimize\n",
    "        optimizer.zero_grad()\n",
    "        loss.backward()\n",
    "        optimizer.step()\n",
    "        \n",
    "        if (i + 1) % 100 == 0:\n",
    "            print(\"Epoch [{}/{}], Step [{}/{}], Loss: {:.4f}\"\n",
    "                 .format(epoch+1, num_epochs, i+1, total_step, loss.item()))"
   ]
  },
  {
   "cell_type": "code",
   "execution_count": 12,
   "metadata": {},
   "outputs": [
    {
     "name": "stdout",
     "output_type": "stream",
     "text": [
      "Test accuracy of the model on the 10000 test images: 30.54 %\n"
     ]
    }
   ],
   "source": [
    "# Test the model\n",
    "model.eval()     # # eval mode (batchnorm uses moving mean/variance instead of mini-batch mean/variance)\n",
    "with torch.no_grad():\n",
    "    correct = 0\n",
    "    total = 0\n",
    "    for images, labels in test_loader:\n",
    "        images = images.to(device)\n",
    "        labels = labels.to(device)\n",
    "        outputs = model(images)\n",
    "        _, predicted = torch.max(outputs.data, 1)\n",
    "        total += labels.size(0)\n",
    "        correct += (predicted == labels).sum().item()\n",
    "    \n",
    "    print(\"Test accuracy of the model on the 10000 test images: {} %\".format(100 * correct / total))\n"
   ]
  },
  {
   "cell_type": "markdown",
   "metadata": {},
   "source": [
    "The accuracy here is low, main reason is lack of training. The resolution to solve it, you could try to increase the epoch number."
   ]
  },
  {
   "cell_type": "code",
   "execution_count": 13,
   "metadata": {},
   "outputs": [],
   "source": [
    "# Save the model checkpoint\n",
    "torch.save(model.state_dict(), \"cnn.ckpt\")"
   ]
  },
  {
   "cell_type": "code",
   "execution_count": null,
   "metadata": {},
   "outputs": [],
   "source": []
  }
 ],
 "metadata": {
  "kernelspec": {
   "display_name": "Python 3",
   "language": "python",
   "name": "python3"
  },
  "language_info": {
   "codemirror_mode": {
    "name": "ipython",
    "version": 3
   },
   "file_extension": ".py",
   "mimetype": "text/x-python",
   "name": "python",
   "nbconvert_exporter": "python",
   "pygments_lexer": "ipython3",
   "version": "3.7.2"
  }
 },
 "nbformat": 4,
 "nbformat_minor": 2
}
